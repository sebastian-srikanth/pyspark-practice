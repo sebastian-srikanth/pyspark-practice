{
 "cells": [
  {
   "cell_type": "code",
   "execution_count": null,
   "id": "c149524e",
   "metadata": {},
   "outputs": [],
   "source": [
    "from pyspark.sql import SparkSession"
   ]
  },
  {
   "cell_type": "code",
   "execution_count": null,
   "id": "7c9549ba-d887-47b4-bae5-d574272dafed",
   "metadata": {},
   "outputs": [],
   "source": [
    "spark = SparkSession.builder.getOrCreate()"
   ]
  },
  {
   "cell_type": "code",
   "execution_count": null,
   "id": "866e717f",
   "metadata": {},
   "outputs": [],
   "source": [
    "! head work/sample.csv"
   ]
  },
  {
   "cell_type": "code",
   "execution_count": null,
   "id": "04be7e6a-fc6f-4569-97cd-7c767e7c0002",
   "metadata": {},
   "outputs": [],
   "source": [
    "df = spark.read.format(\"csv\").option(\"header\",\"true\").option(\"delimiter\", \"|\").load(\"work/sample.csv\")\n",
    "df.printSchema()\n",
    "df.show(truncate=False)"
   ]
  },
  {
   "cell_type": "code",
   "execution_count": null,
   "id": "168c2e9b",
   "metadata": {},
   "outputs": [],
   "source": [
    "from pyspark.sql.functions import split, col\n",
    "\n",
    "\n",
    "df = df.withColumn(\"city\", split(col(\"city\"), \",\"))\n",
    "df.printSchema()\n",
    "df.show(truncate=False)"
   ]
  },
  {
   "cell_type": "code",
   "execution_count": null,
   "id": "26386f19",
   "metadata": {},
   "outputs": [],
   "source": [
    "from pyspark.sql.functions import explode\n",
    "\n",
    "\n",
    "df_exploded = df.withColumn(\"city\", explode(col(\"city\")))\n",
    "df_exploded.printSchema()\n",
    "df_exploded.show(truncate=False)"
   ]
  },
  {
   "cell_type": "code",
   "execution_count": null,
   "id": "5689beb6",
   "metadata": {},
   "outputs": [],
   "source": [
    "from pyspark.sql.functions import collect_set\n",
    "\n",
    "\n",
    "df_imploded = df_exploded.groupBy(\"name\").agg(collect_set(col(\"city\")))\n",
    "df_imploded.printSchema()\n",
    "df_imploded.show(truncate=False)"
   ]
  },
  {
   "cell_type": "markdown",
   "id": "1b511dae",
   "metadata": {},
   "source": [
    "# Another example"
   ]
  },
  {
   "cell_type": "code",
   "execution_count": null,
   "id": "0cdd1d32-475c-4b1f-9705-c0640b1ac605",
   "metadata": {},
   "outputs": [],
   "source": [
    "from pyspark.sql import SparkSession\n",
    "from pyspark.sql.functions import explode, col\n",
    "\n",
    "# Initialize a Spark session\n",
    "spark = SparkSession.builder.appName(\"explodeExample\").getOrCreate()\n",
    "\n",
    "# Sample data\n",
    "data = [\n",
    "    (\"PMI\", \"OPO\", [2, 1]),\n",
    "    (\"ATH\", \"BCN\", [3]),\n",
    "    (\"JFK\", \"MAD\", [5, 4, 6]),\n",
    "    (\"HND\", \"LAX\", [8, 9, 7, 0])\n",
    "]\n",
    "\n",
    "# Create DataFrame\n",
    "df = spark.createDataFrame(data, [\"origin\", \"destination\", \"internal_flight_ids\"])\n"
   ]
  },
  {
   "cell_type": "code",
   "execution_count": null,
   "id": "e7f9763b",
   "metadata": {},
   "outputs": [],
   "source": [
    "df.printSchema()"
   ]
  },
  {
   "cell_type": "code",
   "execution_count": null,
   "id": "90b7178e",
   "metadata": {},
   "outputs": [],
   "source": [
    "# Transform the DataFrame\n",
    "df_exploded = df.withColumn(\"internal_flight_ids\", explode(col(\"internal_flight_ids\")))\n",
    "\n",
    "# Show the result\n",
    "df_exploded.show()"
   ]
  },
  {
   "cell_type": "code",
   "execution_count": null,
   "id": "39a84687",
   "metadata": {},
   "outputs": [],
   "source": []
  }
 ],
 "metadata": {
  "kernelspec": {
   "display_name": "Python 3 (ipykernel)",
   "language": "python",
   "name": "python3"
  },
  "language_info": {
   "codemirror_mode": {
    "name": "ipython",
    "version": 3
   },
   "file_extension": ".py",
   "mimetype": "text/x-python",
   "name": "python",
   "nbconvert_exporter": "python",
   "pygments_lexer": "ipython3",
   "version": "3.11.9"
  }
 },
 "nbformat": 4,
 "nbformat_minor": 5
}
